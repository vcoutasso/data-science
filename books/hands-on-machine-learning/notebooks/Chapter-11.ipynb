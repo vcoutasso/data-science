{
 "cells": [
  {
   "cell_type": "markdown",
   "metadata": {},
   "source": [
    "## Training Deep Neural Networks"
   ]
  },
  {
   "cell_type": "markdown",
   "metadata": {},
   "source": [
    "# Exercises"
   ]
  },
  {
   "cell_type": "markdown",
   "metadata": {},
   "source": [
    "## 1.\n",
    "All weights should be sampled independently in order to break symmetry. If all the weights have the same initial value, symmetry is not broken and backpropagation will be unable to break it. This means that every neuron in a given layer would always have the same weights, which is pretty much like having one neuron per layer, but much slower."
   ]
  },
  {
   "cell_type": "markdown",
   "metadata": {},
   "source": [
    "## 2.\n",
    "Yes. In fact, they can be initialized just like weights, and that's okay; it does not make much difference."
   ]
  },
  {
   "cell_type": "markdown",
   "metadata": {},
   "source": [
    "## 3.\n",
    "- If the neural network is composed exclusively of a stack of dense layers that use the SELU activation function, the network will be capable of self-normalization (under the right conditions), which solves the exploding/vanishing gradients problem. \n",
    "- SELU avoids the dying units issue that can affect ReLU units because its derivative is always nonzero. \n",
    "- It can take on negative values, so the average output of neurons is typically closer to zero than when using ReLU, which helps alleviate the vanishing gradients problem."
   ]
  },
  {
   "cell_type": "markdown",
   "metadata": {},
   "source": [
    "## 4.\n",
    "SELU is a good default, especially if the network meets the requirements to achieve self-normalization. Leaky ReLU (and its variants) will make the network faster if this is a concern. ReLU can be even faster thanks to optimized implementation and hardware acceleration. Its simplicity and ability to output precisely zero can be useful in some cases as well. The tanh can be useful to output values between -1 and 1, but nowadays it is not used as much in hidden layers (except in recurrent nets). The logistic function is useful for outputting probabilities, but it is rarely used in hidden layers. Lastly, softmax is useful for the output layer to output probabilities for mutually exclusive classes."
   ]
  },
  {
   "cell_type": "markdown",
   "metadata": {},
   "source": [
    "## 5.\n",
    "Setting the `momentum` hyperparameter too close to 1 will allow for the `SGD` algorithm to pick up a lot of speed, but so much so that it may end up passing right past the minimum. It will probably oscillate many times until converges, so overall it will take much longer to converge than with a smaller `momentum` value."
   ]
  },
  {
   "cell_type": "markdown",
   "metadata": {},
   "source": [
    "## 6.\n",
    "It is possible to obtain a sparse model by training it normally, then zeroing out tiny weights (smaller than a threshold). More sparsity can be achieved by applying $\\ell_1$ regularization during training. Using the TensorFlow Model Optimization Toolkit is another option as well."
   ]
  },
  {
   "cell_type": "markdown",
   "metadata": {},
   "source": [
    "## 7.\n",
    "Dropout slows down training, generally by a factor of roughly two. However, since it is only used during training, it has no impact on inference speed. MC Dropout is still active during inference, so each inference will be slowed down. More importantly, when using MC Dropout the goal is to run inference many times to get better predictions, which means that the overall inference time will be significantly higher."
   ]
  },
  {
   "cell_type": "markdown",
   "metadata": {},
   "source": [
    "## 8."
   ]
  },
  {
   "cell_type": "code",
   "execution_count": 1,
   "metadata": {},
   "outputs": [
    {
     "name": "stderr",
     "output_type": "stream",
     "text": [
      "Using plaidml.keras.backend backend.\n"
     ]
    }
   ],
   "source": [
    "import os\n",
    "os.environ[\"KERAS_BACKEND\"] = 'plaidml.keras.backend'\n",
    "import keras\n",
    "import matplotlib.pyplot as plt\n",
    "import pandas as pd\n",
    "import numpy as np\n",
    "import sklearn"
   ]
  },
  {
   "cell_type": "markdown",
   "metadata": {},
   "source": [
    "### a."
   ]
  },
  {
   "cell_type": "code",
   "execution_count": 2,
   "metadata": {},
   "outputs": [
    {
     "name": "stderr",
     "output_type": "stream",
     "text": [
      "INFO:plaidml:Opening device \"opencl_amd_ellesmere.0\"\n"
     ]
    }
   ],
   "source": [
    "model = keras.models.Sequential()\n",
    "model.add(keras.layers.Flatten(input_shape=[32, 32, 3]))\n",
    "\n",
    "for _ in range(20):\n",
    "    model.add(keras.layers.Dense(100, activation='elu', kernel_initializer='he_normal'))\n",
    "    \n",
    "model.add(keras.layers.Dense(10, activation='softmax'))"
   ]
  },
  {
   "cell_type": "markdown",
   "metadata": {},
   "source": [
    "### b."
   ]
  },
  {
   "cell_type": "code",
   "execution_count": 3,
   "metadata": {},
   "outputs": [],
   "source": [
    "from sklearn.model_selection import train_test_split\n",
    "\n",
    "(X_train_full, y_train_full), (X_test, y_test) = keras.datasets.cifar10.load_data()\n",
    "\n",
    "X_train, X_val, y_train, y_val = train_test_split(X_train_full, y_train_full, test_size=0.1, random_state=42)"
   ]
  },
  {
   "cell_type": "code",
   "execution_count": 4,
   "metadata": {},
   "outputs": [],
   "source": [
    "# Normalize the data\n",
    "X_train = X_train / 255.\n",
    "X_val = X_val / 255.\n",
    "X_test = X_test / 255."
   ]
  },
  {
   "cell_type": "code",
   "execution_count": 5,
   "metadata": {},
   "outputs": [],
   "source": [
    "optimizer = keras.optimizers.Nadam(lr=4e-5) # Compared a few different lr with TensorBoard, and ended up with this value\n",
    "model.compile(loss='sparse_categorical_crossentropy', optimizer=optimizer, metrics=['accuracy'])"
   ]
  },
  {
   "cell_type": "code",
   "execution_count": 6,
   "metadata": {},
   "outputs": [],
   "source": [
    "callbacks = [\n",
    "    keras.callbacks.EarlyStopping(patience=10),\n",
    "    keras.callbacks.ModelCheckpoint('model.h5', save_best_only=True),\n",
    "]"
   ]
  },
  {
   "cell_type": "code",
   "execution_count": 7,
   "metadata": {},
   "outputs": [
    {
     "name": "stdout",
     "output_type": "stream",
     "text": [
      "Train on 45000 samples, validate on 5000 samples\n",
      "Epoch 1/100\n",
      "45000/45000 [==============================] - 8s 184us/step - loss: 2.1900 - acc: 0.2357 - val_loss: 1.9315 - val_acc: 0.3132\n",
      "Epoch 2/100\n",
      "45000/45000 [==============================] - 3s 65us/step - loss: 1.8625 - acc: 0.3276 - val_loss: 1.8313 - val_acc: 0.3504\n",
      "Epoch 3/100\n",
      "45000/45000 [==============================] - 3s 65us/step - loss: 1.7733 - acc: 0.3612 - val_loss: 1.8046 - val_acc: 0.3574\n",
      "Epoch 4/100\n",
      "45000/45000 [==============================] - 3s 64us/step - loss: 1.7171 - acc: 0.3836 - val_loss: 1.7247 - val_acc: 0.3856\n",
      "Epoch 5/100\n",
      "45000/45000 [==============================] - 3s 65us/step - loss: 1.6757 - acc: 0.3982 - val_loss: 1.7005 - val_acc: 0.3934\n",
      "Epoch 6/100\n",
      "45000/45000 [==============================] - 3s 64us/step - loss: 1.6408 - acc: 0.4093 - val_loss: 1.6859 - val_acc: 0.4032\n",
      "Epoch 7/100\n",
      "45000/45000 [==============================] - 3s 65us/step - loss: 1.6036 - acc: 0.4262 - val_loss: 1.6578 - val_acc: 0.4042\n",
      "Epoch 8/100\n",
      "45000/45000 [==============================] - 3s 65us/step - loss: 1.5826 - acc: 0.4335 - val_loss: 1.6462 - val_acc: 0.4134\n",
      "Epoch 9/100\n",
      "45000/45000 [==============================] - 3s 68us/step - loss: 1.5584 - acc: 0.4413 - val_loss: 1.6271 - val_acc: 0.4218\n",
      "Epoch 10/100\n",
      "45000/45000 [==============================] - 3s 66us/step - loss: 1.5432 - acc: 0.4480 - val_loss: 1.6276 - val_acc: 0.4158\n",
      "Epoch 11/100\n",
      "45000/45000 [==============================] - 3s 65us/step - loss: 1.5214 - acc: 0.4544 - val_loss: 1.5892 - val_acc: 0.4322\n",
      "Epoch 12/100\n",
      "45000/45000 [==============================] - 3s 66us/step - loss: 1.5044 - acc: 0.4616 - val_loss: 1.5795 - val_acc: 0.4354\n",
      "Epoch 13/100\n",
      "45000/45000 [==============================] - 3s 68us/step - loss: 1.4888 - acc: 0.4658 - val_loss: 1.5749 - val_acc: 0.4346\n",
      "Epoch 14/100\n",
      "45000/45000 [==============================] - 3s 67us/step - loss: 1.4742 - acc: 0.4727 - val_loss: 1.5908 - val_acc: 0.4242\n",
      "Epoch 15/100\n",
      "45000/45000 [==============================] - 3s 67us/step - loss: 1.4582 - acc: 0.4776 - val_loss: 1.5784 - val_acc: 0.4416\n",
      "Epoch 16/100\n",
      "45000/45000 [==============================] - 3s 69us/step - loss: 1.4503 - acc: 0.4816 - val_loss: 1.5548 - val_acc: 0.4436\n",
      "Epoch 17/100\n",
      "45000/45000 [==============================] - 3s 67us/step - loss: 1.4363 - acc: 0.4859 - val_loss: 1.5405 - val_acc: 0.4482\n",
      "Epoch 18/100\n",
      "45000/45000 [==============================] - 3s 67us/step - loss: 1.4276 - acc: 0.4894 - val_loss: 1.5361 - val_acc: 0.4460\n",
      "Epoch 19/100\n",
      "45000/45000 [==============================] - 3s 67us/step - loss: 1.4143 - acc: 0.4967 - val_loss: 1.5490 - val_acc: 0.4476\n",
      "Epoch 20/100\n",
      "45000/45000 [==============================] - 3s 68us/step - loss: 1.4052 - acc: 0.4976 - val_loss: 1.5423 - val_acc: 0.4474\n",
      "Epoch 21/100\n",
      "45000/45000 [==============================] - 3s 70us/step - loss: 1.3941 - acc: 0.5021 - val_loss: 1.5613 - val_acc: 0.4472\n",
      "Epoch 22/100\n",
      "45000/45000 [==============================] - 3s 69us/step - loss: 1.3822 - acc: 0.5066 - val_loss: 1.5411 - val_acc: 0.4486\n",
      "Epoch 23/100\n",
      "45000/45000 [==============================] - 3s 68us/step - loss: 1.3738 - acc: 0.5095 - val_loss: 1.5360 - val_acc: 0.4564\n",
      "Epoch 24/100\n",
      "45000/45000 [==============================] - 3s 68us/step - loss: 1.3655 - acc: 0.5119 - val_loss: 1.5179 - val_acc: 0.4600\n",
      "Epoch 25/100\n",
      "45000/45000 [==============================] - 3s 70us/step - loss: 1.3559 - acc: 0.5143 - val_loss: 1.5086 - val_acc: 0.4644\n",
      "Epoch 26/100\n",
      "45000/45000 [==============================] - 3s 67us/step - loss: 1.3464 - acc: 0.5214 - val_loss: 1.5416 - val_acc: 0.4514\n",
      "Epoch 27/100\n",
      "45000/45000 [==============================] - 3s 67us/step - loss: 1.3385 - acc: 0.5244 - val_loss: 1.5096 - val_acc: 0.4610\n",
      "Epoch 28/100\n",
      "45000/45000 [==============================] - 3s 68us/step - loss: 1.3292 - acc: 0.5284 - val_loss: 1.5012 - val_acc: 0.4664\n",
      "Epoch 29/100\n",
      "45000/45000 [==============================] - 3s 69us/step - loss: 1.3224 - acc: 0.5290 - val_loss: 1.5147 - val_acc: 0.4598\n",
      "Epoch 30/100\n",
      "45000/45000 [==============================] - 3s 67us/step - loss: 1.3103 - acc: 0.5334 - val_loss: 1.5209 - val_acc: 0.4590\n",
      "Epoch 31/100\n",
      "45000/45000 [==============================] - 3s 69us/step - loss: 1.3039 - acc: 0.5370 - val_loss: 1.5123 - val_acc: 0.4628\n",
      "Epoch 32/100\n",
      "45000/45000 [==============================] - 3s 68us/step - loss: 1.2956 - acc: 0.5377 - val_loss: 1.5208 - val_acc: 0.4650\n",
      "Epoch 33/100\n",
      "45000/45000 [==============================] - 3s 68us/step - loss: 1.2880 - acc: 0.5437 - val_loss: 1.5164 - val_acc: 0.4606\n",
      "Epoch 34/100\n",
      "45000/45000 [==============================] - 3s 69us/step - loss: 1.2822 - acc: 0.5429 - val_loss: 1.5457 - val_acc: 0.4556\n",
      "Epoch 35/100\n",
      "45000/45000 [==============================] - 3s 68us/step - loss: 1.2720 - acc: 0.5488 - val_loss: 1.5020 - val_acc: 0.4674\n",
      "Epoch 36/100\n",
      "45000/45000 [==============================] - 3s 69us/step - loss: 1.2652 - acc: 0.5505 - val_loss: 1.4912 - val_acc: 0.4660\n",
      "Epoch 37/100\n",
      "45000/45000 [==============================] - 3s 67us/step - loss: 1.2596 - acc: 0.5530 - val_loss: 1.5040 - val_acc: 0.4646\n",
      "Epoch 38/100\n",
      "45000/45000 [==============================] - 3s 68us/step - loss: 1.2525 - acc: 0.5545 - val_loss: 1.5024 - val_acc: 0.4654\n",
      "Epoch 39/100\n",
      "45000/45000 [==============================] - 3s 69us/step - loss: 1.2450 - acc: 0.5567 - val_loss: 1.5011 - val_acc: 0.4690\n",
      "Epoch 40/100\n",
      "45000/45000 [==============================] - 3s 67us/step - loss: 1.2384 - acc: 0.5596 - val_loss: 1.4900 - val_acc: 0.4726\n",
      "Epoch 41/100\n",
      "45000/45000 [==============================] - 3s 71us/step - loss: 1.2320 - acc: 0.5620 - val_loss: 1.5183 - val_acc: 0.4666\n",
      "Epoch 42/100\n",
      "45000/45000 [==============================] - 3s 69us/step - loss: 1.2227 - acc: 0.5643 - val_loss: 1.5102 - val_acc: 0.4682\n",
      "Epoch 43/100\n",
      "45000/45000 [==============================] - 3s 69us/step - loss: 1.2167 - acc: 0.5672 - val_loss: 1.5071 - val_acc: 0.4664\n",
      "Epoch 44/100\n",
      "45000/45000 [==============================] - 3s 68us/step - loss: 1.2106 - acc: 0.5697 - val_loss: 1.5254 - val_acc: 0.4648\n",
      "Epoch 45/100\n",
      "45000/45000 [==============================] - 3s 71us/step - loss: 1.2060 - acc: 0.5710 - val_loss: 1.5051 - val_acc: 0.4724\n",
      "Epoch 46/100\n",
      "45000/45000 [==============================] - 3s 69us/step - loss: 1.1979 - acc: 0.5729 - val_loss: 1.4994 - val_acc: 0.4762\n",
      "Epoch 47/100\n",
      "45000/45000 [==============================] - 3s 70us/step - loss: 1.1910 - acc: 0.5752 - val_loss: 1.5038 - val_acc: 0.4714\n",
      "Epoch 48/100\n",
      "45000/45000 [==============================] - 3s 69us/step - loss: 1.1837 - acc: 0.5779 - val_loss: 1.5092 - val_acc: 0.4742\n",
      "Epoch 49/100\n",
      "45000/45000 [==============================] - 3s 68us/step - loss: 1.1788 - acc: 0.5800 - val_loss: 1.4970 - val_acc: 0.4786\n",
      "Epoch 50/100\n",
      "45000/45000 [==============================] - 3s 68us/step - loss: 1.1748 - acc: 0.5830 - val_loss: 1.5109 - val_acc: 0.4706\n"
     ]
    }
   ],
   "source": [
    "history = model.fit(X_train, y_train, epochs=100, validation_data=(X_val, y_val),\n",
    "          callbacks=callbacks, batch_size=256)"
   ]
  },
  {
   "cell_type": "code",
   "execution_count": 8,
   "metadata": {},
   "outputs": [
    {
     "name": "stdout",
     "output_type": "stream",
     "text": [
      "5000/5000 [==============================] - 2s 356us/step\n"
     ]
    },
    {
     "data": {
      "text/plain": [
       "[1.48999013671875, 0.4726]"
      ]
     },
     "execution_count": 8,
     "metadata": {},
     "output_type": "execute_result"
    }
   ],
   "source": [
    "model = keras.models.load_model('model.h5')\n",
    "model.evaluate(X_val, y_val)"
   ]
  },
  {
   "cell_type": "code",
   "execution_count": 9,
   "metadata": {},
   "outputs": [
    {
     "data": {
      "image/png": "[encoded data removed]",
      "text/plain": [
       "<Figure size 576x360 with 1 Axes>"
      ]
     },
     "metadata": {
      "needs_background": "light"
     },
     "output_type": "display_data"
    }
   ],
   "source": [
    "pd.DataFrame(history.history).plot(figsize=(8, 5))\n",
    "plt.grid(True)\n",
    "plt.show()"
   ]
  },
  {
   "cell_type": "markdown",
   "metadata": {},
   "source": [
    "### c."
   ]
  },
  {
   "cell_type": "code",
   "execution_count": 10,
   "metadata": {},
   "outputs": [
    {
     "name": "stderr",
     "output_type": "stream",
     "text": [
      "INFO:plaidml:Opening device \"opencl_amd_ellesmere.0\"\n"
     ]
    },
    {
     "name": "stdout",
     "output_type": "stream",
     "text": [
      "Train on 45000 samples, validate on 5000 samples\n",
      "Epoch 1/100\n",
      "45000/45000 [==============================] - 15s 331us/step - loss: 2.2780 - acc: 0.2062 - val_loss: 2.1130 - val_acc: 0.2628\n",
      "Epoch 2/100\n",
      "45000/45000 [==============================] - 5s 120us/step - loss: 1.8960 - acc: 0.3242 - val_loss: 1.8691 - val_acc: 0.3334\n",
      "Epoch 3/100\n",
      "45000/45000 [==============================] - 5s 122us/step - loss: 1.7624 - acc: 0.3722 - val_loss: 1.7727 - val_acc: 0.3648\n",
      "Epoch 4/100\n",
      "45000/45000 [==============================] - 5s 121us/step - loss: 1.6769 - acc: 0.4042 - val_loss: 1.7164 - val_acc: 0.3936\n",
      "Epoch 5/100\n",
      "45000/45000 [==============================] - 5s 122us/step - loss: 1.6192 - acc: 0.4245 - val_loss: 1.6829 - val_acc: 0.4042\n",
      "Epoch 6/100\n",
      "45000/45000 [==============================] - 6s 123us/step - loss: 1.5741 - acc: 0.4437 - val_loss: 1.6511 - val_acc: 0.4102\n",
      "Epoch 7/100\n",
      "45000/45000 [==============================] - 6s 125us/step - loss: 1.5311 - acc: 0.4579 - val_loss: 1.6319 - val_acc: 0.4220\n",
      "Epoch 8/100\n",
      "45000/45000 [==============================] - 6s 123us/step - loss: 1.4962 - acc: 0.4708 - val_loss: 1.6088 - val_acc: 0.4290\n",
      "Epoch 9/100\n",
      "45000/45000 [==============================] - 6s 124us/step - loss: 1.4676 - acc: 0.4808 - val_loss: 1.5911 - val_acc: 0.4300\n",
      "Epoch 10/100\n",
      "45000/45000 [==============================] - 6s 123us/step - loss: 1.4388 - acc: 0.4898 - val_loss: 1.5811 - val_acc: 0.4372\n",
      "Epoch 11/100\n",
      "45000/45000 [==============================] - 6s 124us/step - loss: 1.4143 - acc: 0.5029 - val_loss: 1.5754 - val_acc: 0.4412\n",
      "Epoch 12/100\n",
      "45000/45000 [==============================] - 6s 125us/step - loss: 1.3899 - acc: 0.5076 - val_loss: 1.5655 - val_acc: 0.4492\n",
      "Epoch 13/100\n",
      "45000/45000 [==============================] - 6s 126us/step - loss: 1.3652 - acc: 0.5180 - val_loss: 1.5606 - val_acc: 0.4494\n",
      "Epoch 14/100\n",
      "45000/45000 [==============================] - 6s 123us/step - loss: 1.3454 - acc: 0.5250 - val_loss: 1.5519 - val_acc: 0.4492\n",
      "Epoch 15/100\n",
      "45000/45000 [==============================] - 6s 124us/step - loss: 1.3236 - acc: 0.5305 - val_loss: 1.5532 - val_acc: 0.4528\n",
      "Epoch 16/100\n",
      "45000/45000 [==============================] - 6s 124us/step - loss: 1.3027 - acc: 0.5398 - val_loss: 1.5535 - val_acc: 0.4544\n",
      "Epoch 17/100\n",
      "45000/45000 [==============================] - 6s 124us/step - loss: 1.2848 - acc: 0.5479 - val_loss: 1.5487 - val_acc: 0.4558\n",
      "Epoch 18/100\n",
      "45000/45000 [==============================] - 6s 126us/step - loss: 1.2676 - acc: 0.5518 - val_loss: 1.5466 - val_acc: 0.4562\n",
      "Epoch 19/100\n",
      "45000/45000 [==============================] - 6s 126us/step - loss: 1.2475 - acc: 0.5602 - val_loss: 1.5447 - val_acc: 0.4568\n",
      "Epoch 20/100\n",
      "45000/45000 [==============================] - 6s 125us/step - loss: 1.2308 - acc: 0.5662 - val_loss: 1.5542 - val_acc: 0.4608\n",
      "Epoch 21/100\n",
      "45000/45000 [==============================] - 6s 124us/step - loss: 1.2129 - acc: 0.5714 - val_loss: 1.5502 - val_acc: 0.4604\n",
      "Epoch 22/100\n",
      "45000/45000 [==============================] - 5s 120us/step - loss: 1.2002 - acc: 0.5773 - val_loss: 1.5561 - val_acc: 0.4612\n",
      "Epoch 23/100\n",
      "45000/45000 [==============================] - 5s 115us/step - loss: 1.1861 - acc: 0.5813 - val_loss: 1.5503 - val_acc: 0.4622\n",
      "Epoch 24/100\n",
      "45000/45000 [==============================] - 6s 131us/step - loss: 1.1674 - acc: 0.5879 - val_loss: 1.5547 - val_acc: 0.4620\n",
      "Epoch 25/100\n",
      "45000/45000 [==============================] - 6s 126us/step - loss: 1.1510 - acc: 0.5935 - val_loss: 1.5633 - val_acc: 0.4630\n",
      "Epoch 26/100\n",
      "45000/45000 [==============================] - 6s 127us/step - loss: 1.1371 - acc: 0.5990 - val_loss: 1.5622 - val_acc: 0.4668\n",
      "Epoch 27/100\n",
      "45000/45000 [==============================] - 6s 127us/step - loss: 1.1214 - acc: 0.6065 - val_loss: 1.5717 - val_acc: 0.4640\n",
      "Epoch 28/100\n",
      "45000/45000 [==============================] - 6s 126us/step - loss: 1.1081 - acc: 0.6120 - val_loss: 1.5738 - val_acc: 0.4694\n",
      "Epoch 29/100\n",
      "45000/45000 [==============================] - 6s 125us/step - loss: 1.0958 - acc: 0.6154 - val_loss: 1.5778 - val_acc: 0.4624\n"
     ]
    }
   ],
   "source": [
    "keras.backend.clear_session()\n",
    "\n",
    "model = keras.models.Sequential()\n",
    "model.add(keras.layers.Flatten(input_shape=[32, 32, 3]))\n",
    "model.add(keras.layers.BatchNormalization())\n",
    "\n",
    "for _ in range(20):\n",
    "    model.add(keras.layers.Dense(100, kernel_initializer='he_normal'))\n",
    "    model.add(keras.layers.BatchNormalization())\n",
    "    model.add(keras.layers.Activation('elu'))\n",
    "    \n",
    "model.add(keras.layers.Dense(10, activation='softmax'))\n",
    "\n",
    "optimizer = keras.optimizers.Nadam(lr=4e-5)\n",
    "model.compile(loss='sparse_categorical_crossentropy', optimizer=optimizer, metrics=['accuracy'])\n",
    "\n",
    "callbacks = [\n",
    "    keras.callbacks.EarlyStopping(patience=10),\n",
    "    keras.callbacks.ModelCheckpoint('model.h5', save_best_only=True),\n",
    "]\n",
    "\n",
    "history = model.fit(X_train, y_train, epochs=100, validation_data=(X_val, y_val),\n",
    "                    callbacks=callbacks, batch_size=256)"
   ]
  },
  {
   "cell_type": "code",
   "execution_count": 11,
   "metadata": {},
   "outputs": [
    {
     "name": "stdout",
     "output_type": "stream",
     "text": [
      "5000/5000 [==============================] - 2s 472us/step\n"
     ]
    },
    {
     "data": {
      "text/plain": [
       "[1.5447159324645996, 0.4568]"
      ]
     },
     "execution_count": 11,
     "metadata": {},
     "output_type": "execute_result"
    }
   ],
   "source": [
    "model = keras.models.load_model('model.h5')\n",
    "model.evaluate(X_val, y_val)"
   ]
  },
  {
   "cell_type": "code",
   "execution_count": 12,
   "metadata": {},
   "outputs": [
    {
     "data": {
      "image/png": "[encoded data removed]",
      "text/plain": [
       "<Figure size 576x360 with 1 Axes>"
      ]
     },
     "metadata": {
      "needs_background": "light"
     },
     "output_type": "display_data"
    }
   ],
   "source": [
    "pd.DataFrame(history.history).plot(figsize=(8, 5))\n",
    "plt.grid(True)\n",
    "plt.show()"
   ]
  },
  {
   "cell_type": "markdown",
   "metadata": {},
   "source": [
    "### d."
   ]
  },
  {
   "cell_type": "code",
   "execution_count": 13,
   "metadata": {},
   "outputs": [
    {
     "name": "stderr",
     "output_type": "stream",
     "text": [
      "INFO:plaidml:Opening device \"opencl_amd_ellesmere.0\"\n"
     ]
    },
    {
     "name": "stdout",
     "output_type": "stream",
     "text": [
      "Train on 45000 samples, validate on 5000 samples\n",
      "Epoch 1/100\n",
      "45000/45000 [==============================] - 9s 189us/step - loss: 2.0809 - acc: 0.2760 - val_loss: 1.8983 - val_acc: 0.3256\n",
      "Epoch 2/100\n",
      "45000/45000 [==============================] - 3s 65us/step - loss: 1.7906 - acc: 0.3646 - val_loss: 1.8004 - val_acc: 0.3606\n",
      "Epoch 3/100\n",
      "45000/45000 [==============================] - 3s 66us/step - loss: 1.6921 - acc: 0.3982 - val_loss: 1.7453 - val_acc: 0.3852\n",
      "Epoch 4/100\n",
      "45000/45000 [==============================] - 3s 67us/step - loss: 1.6238 - acc: 0.4214 - val_loss: 1.7093 - val_acc: 0.3880\n",
      "Epoch 5/100\n",
      "45000/45000 [==============================] - 3s 67us/step - loss: 1.5702 - acc: 0.4413 - val_loss: 1.6775 - val_acc: 0.4026\n",
      "Epoch 6/100\n",
      "45000/45000 [==============================] - 3s 66us/step - loss: 1.5270 - acc: 0.4576 - val_loss: 1.6559 - val_acc: 0.4220\n",
      "Epoch 7/100\n",
      "45000/45000 [==============================] - 3s 67us/step - loss: 1.4863 - acc: 0.4724 - val_loss: 1.6384 - val_acc: 0.4240\n",
      "Epoch 8/100\n",
      "45000/45000 [==============================] - 3s 66us/step - loss: 1.4509 - acc: 0.4854 - val_loss: 1.6266 - val_acc: 0.4312\n",
      "Epoch 9/100\n",
      "45000/45000 [==============================] - 3s 66us/step - loss: 1.4196 - acc: 0.4957 - val_loss: 1.6204 - val_acc: 0.4358\n",
      "Epoch 10/100\n",
      "45000/45000 [==============================] - 3s 67us/step - loss: 1.3903 - acc: 0.5074 - val_loss: 1.6097 - val_acc: 0.4348\n",
      "Epoch 11/100\n",
      "45000/45000 [==============================] - 3s 68us/step - loss: 1.3635 - acc: 0.5174 - val_loss: 1.6073 - val_acc: 0.4378\n",
      "Epoch 12/100\n",
      "45000/45000 [==============================] - 3s 68us/step - loss: 1.3362 - acc: 0.5270 - val_loss: 1.5953 - val_acc: 0.4430\n",
      "Epoch 13/100\n",
      "45000/45000 [==============================] - 3s 67us/step - loss: 1.3136 - acc: 0.5356 - val_loss: 1.5969 - val_acc: 0.4420\n",
      "Epoch 14/100\n",
      "45000/45000 [==============================] - 3s 69us/step - loss: 1.2905 - acc: 0.5446 - val_loss: 1.6009 - val_acc: 0.4402\n",
      "Epoch 15/100\n",
      "45000/45000 [==============================] - 3s 68us/step - loss: 1.2669 - acc: 0.5520 - val_loss: 1.5948 - val_acc: 0.4440\n",
      "Epoch 16/100\n",
      "45000/45000 [==============================] - 3s 69us/step - loss: 1.2457 - acc: 0.5600 - val_loss: 1.5999 - val_acc: 0.4420\n",
      "Epoch 17/100\n",
      "45000/45000 [==============================] - 3s 68us/step - loss: 1.2250 - acc: 0.5672 - val_loss: 1.5960 - val_acc: 0.4474\n",
      "Epoch 18/100\n",
      "45000/45000 [==============================] - 3s 67us/step - loss: 1.2045 - acc: 0.5742 - val_loss: 1.6038 - val_acc: 0.4528\n",
      "Epoch 19/100\n",
      "45000/45000 [==============================] - 3s 67us/step - loss: 1.1841 - acc: 0.5831 - val_loss: 1.6037 - val_acc: 0.4486\n",
      "Epoch 20/100\n",
      "45000/45000 [==============================] - 3s 68us/step - loss: 1.1645 - acc: 0.5910 - val_loss: 1.6156 - val_acc: 0.4486\n",
      "Epoch 21/100\n",
      "45000/45000 [==============================] - 3s 69us/step - loss: 1.1467 - acc: 0.5967 - val_loss: 1.6232 - val_acc: 0.4450\n",
      "Epoch 22/100\n",
      "45000/45000 [==============================] - 3s 68us/step - loss: 1.1269 - acc: 0.6044 - val_loss: 1.6236 - val_acc: 0.4548\n",
      "Epoch 23/100\n",
      "45000/45000 [==============================] - 3s 69us/step - loss: 1.1101 - acc: 0.6083 - val_loss: 1.6337 - val_acc: 0.4490\n",
      "Epoch 24/100\n",
      "45000/45000 [==============================] - 3s 69us/step - loss: 1.0926 - acc: 0.6173 - val_loss: 1.6538 - val_acc: 0.4428\n",
      "Epoch 25/100\n",
      "45000/45000 [==============================] - 3s 69us/step - loss: 1.0756 - acc: 0.6217 - val_loss: 1.6572 - val_acc: 0.4494\n"
     ]
    }
   ],
   "source": [
    "keras.backend.clear_session()\n",
    "\n",
    "model = keras.models.Sequential()\n",
    "model.add(keras.layers.Flatten(input_shape=[32, 32, 3]))\n",
    "\n",
    "for _ in range(20):\n",
    "    model.add(keras.layers.Dense(100, kernel_initializer='lecun_normal', activation='selu'))\n",
    "    \n",
    "model.add(keras.layers.Dense(10, activation='softmax'))\n",
    "\n",
    "optimizer = keras.optimizers.Nadam(lr=4e-5)\n",
    "model.compile(loss='sparse_categorical_crossentropy', optimizer=optimizer, metrics=['accuracy'])\n",
    "\n",
    "X_means = X_train.mean(axis=0)\n",
    "X_stds = X_train.std(axis=0)\n",
    "X_train_scaled = (X_train - X_means) / X_stds\n",
    "X_val_scaled = (X_val - X_means) / X_stds\n",
    "X_test_scaled = (X_test - X_means) / X_stds\n",
    "\n",
    "callbacks = [\n",
    "    keras.callbacks.EarlyStopping(patience=10),\n",
    "    keras.callbacks.ModelCheckpoint('model.h5', save_best_only=True),\n",
    "]\n",
    "\n",
    "history = model.fit(X_train_scaled, y_train, epochs=100, validation_data=(X_val_scaled, y_val),\n",
    "                    callbacks=callbacks, batch_size=256)"
   ]
  },
  {
   "cell_type": "code",
   "execution_count": 14,
   "metadata": {},
   "outputs": [
    {
     "name": "stdout",
     "output_type": "stream",
     "text": [
      "5000/5000 [==============================] - 2s 365us/step\n"
     ]
    },
    {
     "data": {
      "text/plain": [
       "[1.5947628694534302, 0.444]"
      ]
     },
     "execution_count": 14,
     "metadata": {},
     "output_type": "execute_result"
    }
   ],
   "source": [
    "model = keras.models.load_model('model.h5')\n",
    "model.evaluate(X_val_scaled, y_val)"
   ]
  },
  {
   "cell_type": "code",
   "execution_count": 15,
   "metadata": {},
   "outputs": [
    {
     "data": {
      "image/png": "[encoded data removed]",
      "text/plain": [
       "<Figure size 576x360 with 1 Axes>"
      ]
     },
     "metadata": {
      "needs_background": "light"
     },
     "output_type": "display_data"
    }
   ],
   "source": [
    "pd.DataFrame(history.history).plot(figsize=(8, 5))\n",
    "plt.grid(True)\n",
    "plt.show()"
   ]
  },
  {
   "cell_type": "markdown",
   "metadata": {},
   "source": [
    "### e."
   ]
  },
  {
   "cell_type": "code",
   "execution_count": 16,
   "metadata": {},
   "outputs": [
    {
     "name": "stderr",
     "output_type": "stream",
     "text": [
      "INFO:plaidml:Opening device \"opencl_amd_ellesmere.0\"\n"
     ]
    },
    {
     "name": "stdout",
     "output_type": "stream",
     "text": [
      "Train on 45000 samples, validate on 5000 samples\n",
      "Epoch 1/100\n",
      "45000/45000 [==============================] - 9s 197us/step - loss: 2.3104 - acc: 0.2300 - val_loss: 1.9329 - val_acc: 0.3350\n",
      "Epoch 2/100\n",
      "45000/45000 [==============================] - 3s 71us/step - loss: 2.0101 - acc: 0.3078 - val_loss: 1.8208 - val_acc: 0.3712\n",
      "Epoch 3/100\n",
      "45000/45000 [==============================] - 3s 70us/step - loss: 1.8756 - acc: 0.3484 - val_loss: 1.7797 - val_acc: 0.3924\n",
      "Epoch 4/100\n",
      "45000/45000 [==============================] - 3s 69us/step - loss: 1.7808 - acc: 0.3783 - val_loss: 1.7303 - val_acc: 0.4020\n",
      "Epoch 5/100\n",
      "45000/45000 [==============================] - 3s 69us/step - loss: 1.7139 - acc: 0.4015 - val_loss: 1.7187 - val_acc: 0.4110\n",
      "Epoch 6/100\n",
      "45000/45000 [==============================] - 3s 70us/step - loss: 1.6562 - acc: 0.4204 - val_loss: 1.6897 - val_acc: 0.4234\n",
      "Epoch 7/100\n",
      "45000/45000 [==============================] - 3s 71us/step - loss: 1.6012 - acc: 0.4361 - val_loss: 1.6862 - val_acc: 0.4256\n",
      "Epoch 8/100\n",
      "45000/45000 [==============================] - 3s 72us/step - loss: 1.5559 - acc: 0.4508 - val_loss: 1.6896 - val_acc: 0.4330\n",
      "Epoch 9/100\n",
      "45000/45000 [==============================] - 3s 70us/step - loss: 1.5216 - acc: 0.4646 - val_loss: 1.6516 - val_acc: 0.4366\n",
      "Epoch 10/100\n",
      "45000/45000 [==============================] - 3s 70us/step - loss: 1.4832 - acc: 0.4795 - val_loss: 1.6647 - val_acc: 0.4356\n",
      "Epoch 11/100\n",
      "45000/45000 [==============================] - 3s 71us/step - loss: 1.4537 - acc: 0.4890 - val_loss: 1.6567 - val_acc: 0.4456\n",
      "Epoch 12/100\n",
      "45000/45000 [==============================] - 3s 70us/step - loss: 1.4260 - acc: 0.4992 - val_loss: 1.6572 - val_acc: 0.4506\n",
      "Epoch 13/100\n",
      "45000/45000 [==============================] - 3s 71us/step - loss: 1.3944 - acc: 0.5117 - val_loss: 1.6460 - val_acc: 0.4508\n",
      "Epoch 14/100\n",
      "45000/45000 [==============================] - 3s 71us/step - loss: 1.3724 - acc: 0.5214 - val_loss: 1.6522 - val_acc: 0.4488\n",
      "Epoch 15/100\n",
      "45000/45000 [==============================] - 3s 72us/step - loss: 1.3484 - acc: 0.5263 - val_loss: 1.6580 - val_acc: 0.4550\n",
      "Epoch 16/100\n",
      "45000/45000 [==============================] - 3s 72us/step - loss: 1.3229 - acc: 0.5350 - val_loss: 1.6664 - val_acc: 0.4564\n",
      "Epoch 17/100\n",
      "45000/45000 [==============================] - 3s 71us/step - loss: 1.3045 - acc: 0.5384 - val_loss: 1.6700 - val_acc: 0.4542\n",
      "Epoch 18/100\n",
      "45000/45000 [==============================] - 3s 73us/step - loss: 1.2810 - acc: 0.5522 - val_loss: 1.6802 - val_acc: 0.4598\n",
      "Epoch 19/100\n",
      "45000/45000 [==============================] - 3s 71us/step - loss: 1.2576 - acc: 0.5576 - val_loss: 1.6935 - val_acc: 0.4558\n",
      "Epoch 20/100\n",
      "45000/45000 [==============================] - 3s 72us/step - loss: 1.2414 - acc: 0.5646 - val_loss: 1.7036 - val_acc: 0.4630\n",
      "Epoch 21/100\n",
      "45000/45000 [==============================] - 3s 71us/step - loss: 1.2237 - acc: 0.5723 - val_loss: 1.7057 - val_acc: 0.4632\n",
      "Epoch 22/100\n",
      "45000/45000 [==============================] - 3s 72us/step - loss: 1.2035 - acc: 0.5772 - val_loss: 1.7289 - val_acc: 0.4570\n",
      "Epoch 23/100\n",
      "45000/45000 [==============================] - 3s 71us/step - loss: 1.1881 - acc: 0.5813 - val_loss: 1.7241 - val_acc: 0.4578\n"
     ]
    }
   ],
   "source": [
    "keras.backend.clear_session()\n",
    "\n",
    "model = keras.models.Sequential()\n",
    "model.add(keras.layers.Flatten(input_shape=[32, 32, 3]))\n",
    "\n",
    "for _ in range(20):\n",
    "    model.add(keras.layers.Dense(100, kernel_initializer='lecun_normal', activation='selu'))\n",
    "    \n",
    "model.add(keras.layers.AlphaDropout(rate=0.15))\n",
    "model.add(keras.layers.Dense(10, activation='softmax'))\n",
    "\n",
    "optimizer = keras.optimizers.Nadam(lr=4e-5)\n",
    "model.compile(loss='sparse_categorical_crossentropy', optimizer=optimizer, metrics=['accuracy'])\n",
    "\n",
    "callbacks = [\n",
    "    keras.callbacks.EarlyStopping(patience=10),\n",
    "    keras.callbacks.ModelCheckpoint('model.h5', save_best_only=True),\n",
    "]\n",
    "\n",
    "history = model.fit(X_train_scaled, y_train, epochs=100, validation_data=(X_val_scaled, y_val),\n",
    "                    callbacks=callbacks, batch_size=256)"
   ]
  },
  {
   "cell_type": "code",
   "execution_count": 17,
   "metadata": {},
   "outputs": [
    {
     "name": "stdout",
     "output_type": "stream",
     "text": [
      "5000/5000 [==============================] - 2s 391us/step\n"
     ]
    },
    {
     "data": {
      "text/plain": [
       "[1.6459841396331787, 0.4508]"
      ]
     },
     "execution_count": 17,
     "metadata": {},
     "output_type": "execute_result"
    }
   ],
   "source": [
    "model = keras.models.load_model('model.h5')\n",
    "model.evaluate(X_val_scaled, y_val)"
   ]
  },
  {
   "cell_type": "code",
   "execution_count": 18,
   "metadata": {},
   "outputs": [
    {
     "data": {
      "image/png": "[encoded data removed]",
      "text/plain": [
       "<Figure size 576x360 with 1 Axes>"
      ]
     },
     "metadata": {
      "needs_background": "light"
     },
     "output_type": "display_data"
    }
   ],
   "source": [
    "pd.DataFrame(history.history).plot(figsize=(8, 5))\n",
    "plt.grid(True)\n",
    "plt.show()"
   ]
  },
  {
   "cell_type": "code",
   "execution_count": 19,
   "metadata": {},
   "outputs": [],
   "source": [
    "class MCAlphaDropout(keras.layers.AlphaDropout):\n",
    "    def call(self, inputs):\n",
    "        return super().call(inputs, training=True)"
   ]
  },
  {
   "cell_type": "code",
   "execution_count": 20,
   "metadata": {},
   "outputs": [],
   "source": [
    "mc_model = keras.models.Sequential([\n",
    "    MCAlphaDropout(layer.rate) if isinstance(layer, keras.layers.AlphaDropout) else layer for layer in model.layers\n",
    "])"
   ]
  },
  {
   "cell_type": "code",
   "execution_count": 21,
   "metadata": {},
   "outputs": [
    {
     "data": {
      "text/plain": [
       "0.453"
      ]
     },
     "execution_count": 21,
     "metadata": {},
     "output_type": "execute_result"
    }
   ],
   "source": [
    "n_samples = 10\n",
    "y_pred = np.argmax(np.mean([mc_model.predict(X_val_scaled) for sample in range(n_samples)], axis=0), axis=1)\n",
    "np.mean(y_pred == y_val[:, 0])"
   ]
  }
 ],
 "metadata": {
  "kernelspec": {
   "display_name": "Python [conda env:handson-ml2]",
   "language": "python",
   "name": "conda-env-handson-ml2-py"
  },
  "language_info": {
   "codemirror_mode": {
    "name": "ipython",
    "version": 3
   },
   "file_extension": ".py",
   "mimetype": "text/x-python",
   "name": "python",
   "nbconvert_exporter": "python",
   "pygments_lexer": "ipython3",
   "version": "3.9.1"
  }
 },
 "nbformat": 4,
 "nbformat_minor": 4
}

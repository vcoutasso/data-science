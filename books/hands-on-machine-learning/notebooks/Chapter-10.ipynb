{
 "cells": [
  {
   "cell_type": "markdown",
   "metadata": {},
   "source": [
    "# Introduction to Artificial Neural Networks with Keras"
   ]
  },
  {
   "cell_type": "markdown",
   "metadata": {},
   "source": [
    "Since I don't currently own a GPU with CUDA support, I'll be using the PlaidML backend:"
   ]
  },
  {
   "cell_type": "code",
   "execution_count": 1,
   "metadata": {},
   "outputs": [
    {
     "name": "stderr",
     "output_type": "stream",
     "text": [
      "Using plaidml.keras.backend backend.\n"
     ]
    },
    {
     "data": {
      "text/plain": [
       "'2.2.4'"
      ]
     },
     "execution_count": 1,
     "metadata": {},
     "output_type": "execute_result"
    }
   ],
   "source": [
    "import os\n",
    "os.environ[\"KERAS_BACKEND\"] = 'plaidml.keras.backend'\n",
    "import keras\n",
    "\n",
    "keras.__version__"
   ]
  },
  {
   "cell_type": "markdown",
   "metadata": {},
   "source": [
    "## Image Classifier"
   ]
  },
  {
   "cell_type": "code",
   "execution_count": 2,
   "metadata": {},
   "outputs": [],
   "source": [
    "fashion_mnist = keras.datasets.fashion_mnist\n",
    "(X_train_full, y_train_full), (X_test, y_test) = keras.datasets.fashion_mnist.load_data()"
   ]
  },
  {
   "cell_type": "markdown",
   "metadata": {},
   "source": [
    "The images are represented as a $28 \\times 28$ array of integers (from 0 to 255):"
   ]
  },
  {
   "cell_type": "code",
   "execution_count": 3,
   "metadata": {},
   "outputs": [
    {
     "data": {
      "text/plain": [
       "(60000, 28, 28)"
      ]
     },
     "execution_count": 3,
     "metadata": {},
     "output_type": "execute_result"
    }
   ],
   "source": [
    "X_train_full.shape"
   ]
  },
  {
   "cell_type": "code",
   "execution_count": 4,
   "metadata": {},
   "outputs": [
    {
     "data": {
      "text/plain": [
       "dtype('uint8')"
      ]
     },
     "execution_count": 4,
     "metadata": {},
     "output_type": "execute_result"
    }
   ],
   "source": [
    "X_train_full.dtype"
   ]
  },
  {
   "cell_type": "code",
   "execution_count": 5,
   "metadata": {},
   "outputs": [],
   "source": [
    "X_valid, X_train = X_train_full[:5000] / 255.0, X_train_full[5000:] / 255.0\n",
    "y_valid, y_train = y_train_full[:5000], y_train_full[5000:]\n",
    "class_names = [\"T-shirt/top\", \"Trouser\", \"Pullover\", \"Dress\", \"Coat\", \"Sandal\", \"Shirt\",\n",
    "               \"Sneaker\", \"Bag\", \"Ankle boot\"]"
   ]
  },
  {
   "cell_type": "code",
   "execution_count": 6,
   "metadata": {},
   "outputs": [
    {
     "name": "stderr",
     "output_type": "stream",
     "text": [
      "INFO:plaidml:Opening device \"opencl_amd_ellesmere.0\"\n"
     ]
    }
   ],
   "source": [
    "model = keras.models.Sequential()\n",
    "model.add(keras.layers.Flatten(input_shape=[28, 28]))\n",
    "model.add(keras.layers.Dense(300, activation=\"relu\"))\n",
    "model.add(keras.layers.Dense(100, activation=\"relu\"))\n",
    "model.add(keras.layers.Dense(10, activation=\"softmax\"))"
   ]
  },
  {
   "cell_type": "code",
   "execution_count": 7,
   "metadata": {},
   "outputs": [
    {
     "name": "stdout",
     "output_type": "stream",
     "text": [
      "_________________________________________________________________\n",
      "Layer (type)                 Output Shape              Param #   \n",
      "=================================================================\n",
      "flatten_1 (Flatten)          (None, 784)               0         \n",
      "_________________________________________________________________\n",
      "dense_1 (Dense)              (None, 300)               235500    \n",
      "_________________________________________________________________\n",
      "dense_2 (Dense)              (None, 100)               30100     \n",
      "_________________________________________________________________\n",
      "dense_3 (Dense)              (None, 10)                1010      \n",
      "=================================================================\n",
      "Total params: 266,610\n",
      "Trainable params: 266,610\n",
      "Non-trainable params: 0\n",
      "_________________________________________________________________\n"
     ]
    }
   ],
   "source": [
    "model.summary()"
   ]
  },
  {
   "cell_type": "code",
   "execution_count": 8,
   "metadata": {},
   "outputs": [],
   "source": [
    "model.compile(loss=\"sparse_categorical_crossentropy\",\n",
    "optimizer=\"sgd\",\n",
    "metrics=[\"accuracy\"])"
   ]
  },
  {
   "cell_type": "code",
   "execution_count": 9,
   "metadata": {},
   "outputs": [
    {
     "name": "stdout",
     "output_type": "stream",
     "text": [
      "Train on 55000 samples, validate on 5000 samples\n",
      "Epoch 1/30\n",
      "55000/55000 [==============================] - 7s 118us/step - loss: 1.2459 - acc: 0.6315 - val_loss: 0.8612 - val_acc: 0.7214\n",
      "Epoch 2/30\n",
      "55000/55000 [==============================] - 1s 20us/step - loss: 0.7716 - acc: 0.7520 - val_loss: 0.6924 - val_acc: 0.7792\n",
      "Epoch 3/30\n",
      "55000/55000 [==============================] - 1s 21us/step - loss: 0.6605 - acc: 0.7857 - val_loss: 0.6182 - val_acc: 0.8000\n",
      "Epoch 4/30\n",
      "55000/55000 [==============================] - 1s 22us/step - loss: 0.6008 - acc: 0.8023 - val_loss: 0.5690 - val_acc: 0.8148\n",
      "Epoch 5/30\n",
      "55000/55000 [==============================] - 1s 18us/step - loss: 0.5614 - acc: 0.8134 - val_loss: 0.5370 - val_acc: 0.8230\n",
      "Epoch 6/30\n",
      "55000/55000 [==============================] - 1s 18us/step - loss: 0.5342 - acc: 0.8206 - val_loss: 0.5156 - val_acc: 0.8296\n",
      "Epoch 7/30\n",
      "55000/55000 [==============================] - 1s 19us/step - loss: 0.5146 - acc: 0.8248 - val_loss: 0.4957 - val_acc: 0.8354\n",
      "Epoch 8/30\n",
      "55000/55000 [==============================] - 1s 20us/step - loss: 0.4987 - acc: 0.8290 - val_loss: 0.4864 - val_acc: 0.8408\n",
      "Epoch 9/30\n",
      "55000/55000 [==============================] - 1s 20us/step - loss: 0.4862 - acc: 0.8333 - val_loss: 0.4732 - val_acc: 0.8422\n",
      "Epoch 10/30\n",
      "55000/55000 [==============================] - 1s 20us/step - loss: 0.4756 - acc: 0.8365 - val_loss: 0.4792 - val_acc: 0.8412\n",
      "Epoch 11/30\n",
      "55000/55000 [==============================] - 1s 20us/step - loss: 0.4666 - acc: 0.8386 - val_loss: 0.4560 - val_acc: 0.8484\n",
      "Epoch 12/30\n",
      "55000/55000 [==============================] - 1s 20us/step - loss: 0.4594 - acc: 0.8410 - val_loss: 0.4506 - val_acc: 0.8520\n",
      "Epoch 13/30\n",
      "55000/55000 [==============================] - 1s 21us/step - loss: 0.4518 - acc: 0.8421 - val_loss: 0.4454 - val_acc: 0.8514\n",
      "Epoch 14/30\n",
      "55000/55000 [==============================] - 1s 19us/step - loss: 0.4462 - acc: 0.8454 - val_loss: 0.4395 - val_acc: 0.8542\n",
      "Epoch 15/30\n",
      "55000/55000 [==============================] - 1s 20us/step - loss: 0.4401 - acc: 0.8479 - val_loss: 0.4311 - val_acc: 0.8552\n",
      "Epoch 16/30\n",
      "55000/55000 [==============================] - 1s 20us/step - loss: 0.4358 - acc: 0.8478 - val_loss: 0.4259 - val_acc: 0.8616\n",
      "Epoch 17/30\n",
      "55000/55000 [==============================] - 1s 26us/step - loss: 0.4305 - acc: 0.8505 - val_loss: 0.4304 - val_acc: 0.8562\n",
      "Epoch 18/30\n",
      "55000/55000 [==============================] - 1s 25us/step - loss: 0.4271 - acc: 0.8511 - val_loss: 0.4185 - val_acc: 0.8608\n",
      "Epoch 19/30\n",
      "55000/55000 [==============================] - 1s 26us/step - loss: 0.4228 - acc: 0.8525 - val_loss: 0.4162 - val_acc: 0.8600\n",
      "Epoch 20/30\n",
      "55000/55000 [==============================] - 1s 24us/step - loss: 0.4184 - acc: 0.8539 - val_loss: 0.4144 - val_acc: 0.8634\n",
      "Epoch 21/30\n",
      "55000/55000 [==============================] - 1s 25us/step - loss: 0.4147 - acc: 0.8565 - val_loss: 0.4098 - val_acc: 0.8624\n",
      "Epoch 22/30\n",
      "55000/55000 [==============================] - 1s 23us/step - loss: 0.4108 - acc: 0.8572 - val_loss: 0.4131 - val_acc: 0.8624\n",
      "Epoch 23/30\n",
      "55000/55000 [==============================] - 1s 24us/step - loss: 0.4080 - acc: 0.8589 - val_loss: 0.4077 - val_acc: 0.8636\n",
      "Epoch 24/30\n",
      "55000/55000 [==============================] - 1s 23us/step - loss: 0.4049 - acc: 0.8580 - val_loss: 0.4038 - val_acc: 0.8642\n",
      "Epoch 25/30\n",
      "55000/55000 [==============================] - 1s 26us/step - loss: 0.4021 - acc: 0.8601 - val_loss: 0.4069 - val_acc: 0.8642\n",
      "Epoch 26/30\n",
      "55000/55000 [==============================] - 1s 23us/step - loss: 0.3978 - acc: 0.8616 - val_loss: 0.4016 - val_acc: 0.8648\n",
      "Epoch 27/30\n",
      "55000/55000 [==============================] - 1s 23us/step - loss: 0.3958 - acc: 0.8629 - val_loss: 0.4049 - val_acc: 0.8578\n",
      "Epoch 28/30\n",
      "55000/55000 [==============================] - 1s 24us/step - loss: 0.3935 - acc: 0.8625 - val_loss: 0.3948 - val_acc: 0.8678\n",
      "Epoch 29/30\n",
      "55000/55000 [==============================] - 1s 27us/step - loss: 0.3900 - acc: 0.8636 - val_loss: 0.3915 - val_acc: 0.8704\n",
      "Epoch 30/30\n",
      "55000/55000 [==============================] - 1s 24us/step - loss: 0.3872 - acc: 0.8649 - val_loss: 0.3909 - val_acc: 0.8694\n"
     ]
    }
   ],
   "source": [
    "history = model.fit(X_train, y_train, epochs=30, validation_data=(X_valid, y_valid), batch_size=256)"
   ]
  },
  {
   "cell_type": "code",
   "execution_count": 10,
   "metadata": {},
   "outputs": [
    {
     "data": {
      "image/png": "[encoded data removed]",
      "text/plain": [
       "<Figure size 576x360 with 1 Axes>"
      ]
     },
     "metadata": {
      "needs_background": "light"
     },
     "output_type": "display_data"
    }
   ],
   "source": [
    "import matplotlib.pyplot as plt\n",
    "import pandas as pd\n",
    "\n",
    "pd.DataFrame(history.history).plot(figsize=(8, 5))\n",
    "plt.grid(True)\n",
    "plt.gca().set_ylim(0, 1)\n",
    "plt.show()"
   ]
  },
  {
   "cell_type": "markdown",
   "metadata": {},
   "source": [
    "## Regression MLP"
   ]
  },
  {
   "cell_type": "code",
   "execution_count": 11,
   "metadata": {},
   "outputs": [],
   "source": [
    "from sklearn.datasets import fetch_california_housing\n",
    "from sklearn.model_selection import train_test_split\n",
    "from sklearn.preprocessing import StandardScaler\n",
    "\n",
    "housing = fetch_california_housing()\n",
    "\n",
    "X_train_full, X_test, y_train_full, y_test = train_test_split(housing.data, housing.target)\n",
    "X_train, X_val, y_train, y_val = train_test_split(X_train_full, y_train_full)\n",
    "\n",
    "scaler = StandardScaler()\n",
    "X_train = scaler.fit_transform(X_train)\n",
    "X_val = scaler.transform(X_val)\n",
    "X_test = scaler.transform(X_test)"
   ]
  },
  {
   "cell_type": "code",
   "execution_count": 12,
   "metadata": {},
   "outputs": [
    {
     "name": "stdout",
     "output_type": "stream",
     "text": [
      "Train on 11610 samples, validate on 3870 samples\n",
      "Epoch 1/20\n",
      "11610/11610 [==============================] - 3s 230us/step - loss: 0.7574 - val_loss: 0.6011\n",
      "Epoch 2/20\n",
      "11610/11610 [==============================] - 1s 117us/step - loss: 0.4991 - val_loss: 0.5018\n",
      "Epoch 3/20\n",
      "11610/11610 [==============================] - 1s 98us/step - loss: 0.4546 - val_loss: 0.4530\n",
      "Epoch 4/20\n",
      "11610/11610 [==============================] - 1s 87us/step - loss: 0.4337 - val_loss: 0.4509\n",
      "Epoch 5/20\n",
      "11610/11610 [==============================] - 1s 89us/step - loss: 0.4235 - val_loss: 0.4321\n",
      "Epoch 6/20\n",
      "11610/11610 [==============================] - 1s 105us/step - loss: 0.4225 - val_loss: 0.4370\n",
      "Epoch 7/20\n",
      "11610/11610 [==============================] - 1s 126us/step - loss: 0.4088 - val_loss: 0.4200\n",
      "Epoch 8/20\n",
      "11610/11610 [==============================] - 1s 118us/step - loss: 0.4061 - val_loss: 0.4277\n",
      "Epoch 9/20\n",
      "11610/11610 [==============================] - 1s 101us/step - loss: 0.4097 - val_loss: 0.4211\n",
      "Epoch 10/20\n",
      "11610/11610 [==============================] - 1s 122us/step - loss: 0.3985 - val_loss: 0.4187\n",
      "Epoch 11/20\n",
      "11610/11610 [==============================] - 1s 97us/step - loss: 0.3937 - val_loss: 0.4227\n",
      "Epoch 12/20\n",
      "11610/11610 [==============================] - 1s 99us/step - loss: 0.3902 - val_loss: 0.4306\n",
      "Epoch 13/20\n",
      "11610/11610 [==============================] - 1s 93us/step - loss: 0.3876 - val_loss: 0.3953\n",
      "Epoch 14/20\n",
      "11610/11610 [==============================] - 1s 113us/step - loss: 0.4887 - val_loss: 0.5214\n",
      "Epoch 15/20\n",
      "11610/11610 [==============================] - 1s 97us/step - loss: 0.4387 - val_loss: 0.4177\n",
      "Epoch 16/20\n",
      "11610/11610 [==============================] - 1s 88us/step - loss: 0.3913 - val_loss: 0.4148\n",
      "Epoch 17/20\n",
      "11610/11610 [==============================] - 1s 97us/step - loss: 0.3826 - val_loss: 0.4033\n",
      "Epoch 18/20\n",
      "11610/11610 [==============================] - 1s 102us/step - loss: 0.3718 - val_loss: 0.3917\n",
      "Epoch 19/20\n",
      "11610/11610 [==============================] - 1s 105us/step - loss: 0.3693 - val_loss: 0.3862\n",
      "Epoch 20/20\n",
      "11610/11610 [==============================] - 1s 96us/step - loss: 0.3716 - val_loss: 0.4019\n",
      "5160/5160 [==============================] - 0s 78us/step\n"
     ]
    },
    {
     "data": {
      "text/plain": [
       "0.3645854718925417"
      ]
     },
     "execution_count": 12,
     "metadata": {},
     "output_type": "execute_result"
    }
   ],
   "source": [
    "model = keras.models.Sequential([\n",
    "    keras.layers.Dense(30, activation='relu', input_shape=X_train.shape[1:]),\n",
    "    keras.layers.Dense(1)\n",
    "])\n",
    "\n",
    "model.compile(loss='mean_squared_error', optimizer='sgd')\n",
    "\n",
    "history = model.fit(X_train, y_train, epochs=20, validation_data=(X_val, y_val))\n",
    "\n",
    "model.evaluate(X_test, y_test)"
   ]
  },
  {
   "cell_type": "code",
   "execution_count": 13,
   "metadata": {},
   "outputs": [
    {
     "data": {
      "image/png": "[encoded data removed]",
      "text/plain": [
       "<Figure size 576x360 with 1 Axes>"
      ]
     },
     "metadata": {
      "needs_background": "light"
     },
     "output_type": "display_data"
    }
   ],
   "source": [
    "pd.DataFrame(history.history).plot(figsize=(8, 5))\n",
    "plt.grid(True)\n",
    "plt.gca().set_ylim(0, 1)\n",
    "plt.show()"
   ]
  },
  {
   "cell_type": "markdown",
   "metadata": {},
   "source": [
    "# Exercises"
   ]
  },
  {
   "cell_type": "markdown",
   "metadata": {},
   "source": [
    "## 3.\n",
    "A classical Perceptron will only be able to converge if the dataset is linearly separable, and it doesn't estimate class probabilities. This is not the case for a Logistic Regression classifier, which will converge to a good solution even if the dataset is not linearly separable, and it will output the class probabilities. Changing the Perceptron activation function to the logistic function (or softmax if there are multiple neurons), and training it using Gradient Descent will make it equivalent to a Logistic Regression classifier."
   ]
  },
  {
   "cell_type": "markdown",
   "metadata": {},
   "source": [
    "## 4.\n",
    "The derivative of the logistic activation function is always nonzero, so Gradient Descent can always \"roll down\" the slope. If the activation function is a step function, GD cannot move at all."
   ]
  },
  {
   "cell_type": "markdown",
   "metadata": {},
   "source": [
    "## 5.\n",
    "ReLU, hyperbolic tangent (tanh) and sigmoid (logistic)."
   ]
  },
  {
   "cell_type": "markdown",
   "metadata": {},
   "source": [
    "## 6.\n",
    "1. The shape of the input matrix $\\rm{X}$ is $m \\times 10$, where $m$ represents the batch size.\n",
    "2. The shape of the weight vector $\\rm{W}_h$ is $10 \\times 50$, and the shape of its bias vector $\\rm{b}_h$ is $50$.\n",
    "3. The shape of the weight vector $\\rm{W}_o$ is $50 \\times 3$, and the shape of its bias vector $\\rm{b}_o$ is $3$.\n",
    "4. The shape of the network's output matrix $Y$ is $m \\times 3$.\n",
    "5. $\\rm{Y} = \\text{ReLU}(\\text{ReLU}(\\rm{X}\\rm{W}_h + \\rm{b}_h)\\rm{W}_o + \\rm{b}_o)$"
   ]
  },
  {
   "cell_type": "markdown",
   "metadata": {},
   "source": [
    "## 7.\n",
    "Only one neuron is necessary (indicating the probability of being spam, for example). The activation function used when estimating probabilities is typically the logistic function. To work with the MNIST dataset, 10 neurons on the output layers would be necessary, using the softmax activation function. To predict housing prices, just one neuron would be necessary using no activation function (or perhaps ReLU to guarantee that the predicted values are positive)."
   ]
  },
  {
   "cell_type": "markdown",
   "metadata": {},
   "source": [
    "## 8.\n",
    "Backpropagation is a technique used to train neural networks. It computes the gradients of the cost function with regard to every model parameter, then performs a Gradient Descent step using these gradients. This backpropagation step is repeated many times until the model parameters converges to values that minimize the cost function. Backpropagation uses reverse-mode autodiff to compute the gradients. The difference is that backpropagation refers to the whole process of training a neural network using multiple backpropagation steps, while reverse-mode autodiff is just a technique to compute the gradients efficiently, which happens to be used by backpropagation."
   ]
  },
  {
   "cell_type": "markdown",
   "metadata": {},
   "source": [
    "## 9.\n",
    "These are the hyperparameters to weak in a basic MLP: number of hidden layers, number of neurons per hidden layers, and the activation function in each hidden layer and in the output layer. Reducing the number of hidden layers and the number of neurons per hidden layer will regularize the model, making it less likely to overfit the training data."
   ]
  },
  {
   "cell_type": "markdown",
   "metadata": {},
   "source": [
    "## 10."
   ]
  },
  {
   "cell_type": "code",
   "execution_count": 14,
   "metadata": {},
   "outputs": [],
   "source": [
    "(X_train_full, y_train_full), (X_test, y_test) = keras.datasets.mnist.load_data()\n",
    "X_val, X_train = X_train_full[:5000] / 255.0, X_train_full[5000:] / 255.0\n",
    "y_val, y_train = y_train_full[:5000], y_train_full[5000:]"
   ]
  },
  {
   "cell_type": "code",
   "execution_count": 15,
   "metadata": {},
   "outputs": [],
   "source": [
    "model = keras.models.Sequential()\n",
    "model.add(keras.layers.Flatten(input_shape=[28, 28]))\n",
    "model.add(keras.layers.Dense(300, activation=\"relu\"))\n",
    "model.add(keras.layers.Dense(300, activation=\"relu\"))\n",
    "model.add(keras.layers.Dense(10, activation=\"softmax\"))"
   ]
  },
  {
   "cell_type": "code",
   "execution_count": 16,
   "metadata": {},
   "outputs": [],
   "source": [
    "model.compile(loss=\"sparse_categorical_crossentropy\",\n",
    "              optimizer=keras.optimizers.SGD(lr=2e-1),\n",
    "              metrics=[\"accuracy\"])"
   ]
  },
  {
   "cell_type": "code",
   "execution_count": 17,
   "metadata": {
    "scrolled": true
   },
   "outputs": [
    {
     "name": "stdout",
     "output_type": "stream",
     "text": [
      "Train on 55000 samples, validate on 5000 samples\n",
      "Epoch 1/100\n",
      "55000/55000 [==============================] - 13s 237us/step - loss: 0.2333 - acc: 0.9286 - val_loss: 0.1083 - val_acc: 0.9694\n",
      "Epoch 2/100\n",
      "55000/55000 [==============================] - 9s 159us/step - loss: 0.0910 - acc: 0.9716 - val_loss: 0.0910 - val_acc: 0.9740\n",
      "Epoch 3/100\n",
      "55000/55000 [==============================] - 10s 173us/step - loss: 0.0617 - acc: 0.9795 - val_loss: 0.0817 - val_acc: 0.9772\n",
      "Epoch 4/100\n",
      "55000/55000 [==============================] - 9s 156us/step - loss: 0.0445 - acc: 0.9854 - val_loss: 0.0738 - val_acc: 0.9758\n",
      "Epoch 5/100\n",
      "55000/55000 [==============================] - 9s 167us/step - loss: 0.0327 - acc: 0.9894 - val_loss: 0.0716 - val_acc: 0.9814\n",
      "Epoch 6/100\n",
      "55000/55000 [==============================] - 9s 157us/step - loss: 0.0242 - acc: 0.9927 - val_loss: 0.0824 - val_acc: 0.9778\n",
      "Epoch 7/100\n",
      "55000/55000 [==============================] - 9s 159us/step - loss: 0.0174 - acc: 0.9947 - val_loss: 0.0690 - val_acc: 0.9824\n",
      "Epoch 8/100\n",
      "55000/55000 [==============================] - 9s 160us/step - loss: 0.0117 - acc: 0.9965 - val_loss: 0.0663 - val_acc: 0.9846\n",
      "Epoch 9/100\n",
      "55000/55000 [==============================] - 9s 160us/step - loss: 0.0064 - acc: 0.9983 - val_loss: 0.0734 - val_acc: 0.9826\n",
      "Epoch 10/100\n",
      "55000/55000 [==============================] - 9s 159us/step - loss: 0.0060 - acc: 0.9983 - val_loss: 0.0657 - val_acc: 0.9856\n",
      "Epoch 11/100\n",
      "55000/55000 [==============================] - 9s 158us/step - loss: 0.0039 - acc: 0.9990 - val_loss: 0.0638 - val_acc: 0.9858\n",
      "Epoch 12/100\n",
      "55000/55000 [==============================] - 9s 158us/step - loss: 0.0022 - acc: 0.9995 - val_loss: 0.0655 - val_acc: 0.9862\n",
      "Epoch 13/100\n",
      "55000/55000 [==============================] - 9s 156us/step - loss: 9.8029e-04 - acc: 0.9998 - val_loss: 0.0674 - val_acc: 0.9870\n",
      "Epoch 14/100\n",
      "55000/55000 [==============================] - 9s 158us/step - loss: 4.3607e-04 - acc: 1.0000 - val_loss: 0.0672 - val_acc: 0.9862\n",
      "Epoch 15/100\n",
      "55000/55000 [==============================] - 9s 158us/step - loss: 2.9096e-04 - acc: 1.0000 - val_loss: 0.0691 - val_acc: 0.9870\n",
      "Epoch 16/100\n",
      "55000/55000 [==============================] - 8s 154us/step - loss: 2.3025e-04 - acc: 1.0000 - val_loss: 0.0695 - val_acc: 0.9866\n",
      "Epoch 17/100\n",
      "55000/55000 [==============================] - 9s 166us/step - loss: 2.0313e-04 - acc: 1.0000 - val_loss: 0.0700 - val_acc: 0.9872\n",
      "Epoch 18/100\n",
      "55000/55000 [==============================] - 10s 184us/step - loss: 1.7899e-04 - acc: 1.0000 - val_loss: 0.0712 - val_acc: 0.9876\n",
      "Epoch 19/100\n",
      "55000/55000 [==============================] - 10s 180us/step - loss: 1.6387e-04 - acc: 1.0000 - val_loss: 0.0718 - val_acc: 0.9874\n",
      "Epoch 20/100\n",
      "55000/55000 [==============================] - 11s 193us/step - loss: 1.5033e-04 - acc: 1.0000 - val_loss: 0.0725 - val_acc: 0.9876\n",
      "Epoch 21/100\n",
      "55000/55000 [==============================] - 10s 181us/step - loss: 1.4113e-04 - acc: 1.0000 - val_loss: 0.0727 - val_acc: 0.9876\n"
     ]
    }
   ],
   "source": [
    "early_stopping_cb = keras.callbacks.EarlyStopping(patience=10)\n",
    "checkpoint_cb = keras.callbacks.ModelCheckpoint('mnist_model.h5', save_best_only=True)\n",
    "\n",
    "history = model.fit(X_train, y_train, epochs=100, validation_data=(X_val, y_val),\n",
    "                    callbacks=[early_stopping_cb, checkpoint_cb])"
   ]
  },
  {
   "cell_type": "code",
   "execution_count": 18,
   "metadata": {},
   "outputs": [
    {
     "data": {
      "image/png": "[encoded data removed]",
      "text/plain": [
       "<Figure size 576x360 with 1 Axes>"
      ]
     },
     "metadata": {
      "needs_background": "light"
     },
     "output_type": "display_data"
    }
   ],
   "source": [
    "pd.DataFrame(history.history).plot(figsize=(8, 5))\n",
    "plt.grid(True)\n",
    "plt.gca().set_ylim(0, 1)\n",
    "plt.show()"
   ]
  },
  {
   "cell_type": "code",
   "execution_count": 19,
   "metadata": {},
   "outputs": [
    {
     "name": "stdout",
     "output_type": "stream",
     "text": [
      "10000/10000 [==============================] - 2s 166us/step\n"
     ]
    },
    {
     "data": {
      "text/plain": [
       "[15.13124301147461, 0.9829]"
      ]
     },
     "execution_count": 19,
     "metadata": {},
     "output_type": "execute_result"
    }
   ],
   "source": [
    "# Rollback to best model\n",
    "model = keras.models.load_model('mnist_model.h5') \n",
    "model.evaluate(X_test, y_test)"
   ]
  }
 ],
 "metadata": {
  "kernelspec": {
   "display_name": "Python [conda env:handson-ml2]",
   "language": "python",
   "name": "conda-env-handson-ml2-py"
  },
  "language_info": {
   "codemirror_mode": {
    "name": "ipython",
    "version": 3
   },
   "file_extension": ".py",
   "mimetype": "text/x-python",
   "name": "python",
   "nbconvert_exporter": "python",
   "pygments_lexer": "ipython3",
   "version": "3.9.1"
  }
 },
 "nbformat": 4,
 "nbformat_minor": 4
}

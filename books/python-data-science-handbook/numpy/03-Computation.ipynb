{
 "cells": [
  {
   "cell_type": "markdown",
   "metadata": {},
   "source": [
    "# Computation on NumPy Arrays\n",
    "\n",
    "The key for fast computation on NumPy arrays is the usage of vectorized operations, normally implemented through NumPy's _universal functions_ (ufuncs). NumPy's ufuncs can be used to make repeated calculations on array elements much more efficient.\n",
    "\n",
    "The following snippet (taken from the handbook) is an example of how slow iterative loops can be on Python, and later is presented a possible solution to that using NumPy arrays"
   ]
  },
  {
   "cell_type": "code",
   "execution_count": 1,
   "metadata": {},
   "outputs": [],
   "source": [
    "import numpy as np\n",
    "# Set the seed to some known value for reproducibility\n",
    "np.random.seed(0)\n",
    "\n",
    "# Computes the multiplicative inverse for each element and returns an array with the result\n",
    "def compute_reciprocals(values):\n",
    "    output = np.empty(len(values))\n",
    "    for i in range(len(values)):\n",
    "        output[i] = 1.0 / values[i]\n",
    "    return output"
   ]
  },
  {
   "cell_type": "markdown",
   "metadata": {},
   "source": [
    "The following piece of code took roughly 2 seconds to execute on my machine. This is absurd slow for today's computes for a simple $O(N)$ operation on a array of one million cells (not small, but not that large either). This is an example of where the runtime type-checking causes massive overhead."
   ]
  },
  {
   "cell_type": "code",
   "execution_count": 2,
   "metadata": {},
   "outputs": [
    {
     "name": "stdout",
     "output_type": "stream",
     "text": [
      "1.99 s ± 31.4 ms per loop (mean ± std. dev. of 7 runs, 1 loop each)\n"
     ]
    }
   ],
   "source": [
    "big_array = np.random.randint(1, 100, size=1000000)\n",
    "%timeit compute_reciprocals(big_array)"
   ]
  },
  {
   "cell_type": "markdown",
   "metadata": {},
   "source": [
    "To overcome this issue, NumPy provides statically typed vectorized operations (that is, operations that are applied to each element of the array). The following piece of code is equivalent to the _compute_reciprocals_ function, but much faster. On my machine, the execution time was improved by a factor of roughly 1000 times."
   ]
  },
  {
   "cell_type": "code",
   "execution_count": 3,
   "metadata": {},
   "outputs": [
    {
     "name": "stdout",
     "output_type": "stream",
     "text": [
      "2.12 ms ± 71.2 µs per loop (mean ± std. dev. of 7 runs, 100 loops each)\n"
     ]
    }
   ],
   "source": [
    "%timeit (1.0 / big_array)"
   ]
  },
  {
   "cell_type": "markdown",
   "metadata": {},
   "source": [
    "Vectorization through the usage of ufuncs is almost always more efficient than their iterative loops counterparts, especially for large arrays. \n",
    "\n",
    "Array arithmetic using ufuncs supports all Python's native arithmetic operators and they are, in the form they were presented previously, simply convenient wrappers to operators implemented in NumPy (e.g. `np.divide`).\n",
    "\n",
    "Since there are too many to list here, and [this](https://jakevdp.github.io/PythonDataScienceHandbook/02.03-computation-on-arrays-ufuncs.html#Exploring-NumPy's-UFuncs) section of the handbook already does a great job of pointing out useful information about ufuncs, the following notes will be brief and highlight only a few aspects of this section."
   ]
  },
  {
   "cell_type": "markdown",
   "metadata": {},
   "source": [
    "## Advanced Ufunc Features\n",
    "\n",
    "It is possible to directly specify the output array where the result of the calculation will be stored, instead of creating a temporary array for that purpose. This can be done using the `out` argument of the function:"
   ]
  },
  {
   "cell_type": "code",
   "execution_count": 4,
   "metadata": {},
   "outputs": [
    {
     "data": {
      "text/plain": [
       "array([ 0., 10., 20., 30., 40.])"
      ]
     },
     "execution_count": 4,
     "metadata": {},
     "output_type": "execute_result"
    }
   ],
   "source": [
    "# Sequential array ranging from 0 to 4 inclusive\n",
    "x = np.arange(5)\n",
    "# No need to initialize memory here since it will be overwritten anyway\n",
    "y = np.empty(5)\n",
    "np.multiply(x, 10, out=y)"
   ]
  },
  {
   "cell_type": "markdown",
   "metadata": {},
   "source": [
    "This also works with arrays views. The following example stores the result of the operating to every other element of `y`:"
   ]
  },
  {
   "cell_type": "code",
   "execution_count": 5,
   "metadata": {},
   "outputs": [
    {
     "name": "stdout",
     "output_type": "stream",
     "text": [
      "[ 1.  0.  2.  0.  4.  0.  8.  0. 16.  0.]\n"
     ]
    }
   ],
   "source": [
    "y = np.zeros(10)\n",
    "np.power(2, x, out=y[::2])\n",
    "print(y)"
   ]
  },
  {
   "cell_type": "markdown",
   "metadata": {},
   "source": [
    "The usage of the argument `out` here implies that the result is directly stored in the output array, instead of creating a temporary one to store the result of the calculations, to later be copied into the appropriate positions of `y`. This can save significant amounts of memory for very large arrays."
   ]
  },
  {
   "cell_type": "markdown",
   "metadata": {},
   "source": [
    "### Aggregates\n",
    "\n",
    "Some interesting aggregates can be used in addition to an ufunc. For example:\n",
    "\n",
    "`reduce`: Repeatedly applies a given operation to the elements of an array until only a single element remains\n",
    "\n",
    "`accumulate`: Stores the intermediate results of the computation\n",
    "\n",
    "`outer`: Computes the output of all pairs of two different inputs\n",
    "\n",
    "Note: The examples below are just to illustrate the behavior of the aggregates, although there are dedicated NumPy functions to compute the exact same results."
   ]
  },
  {
   "cell_type": "code",
   "execution_count": 6,
   "metadata": {},
   "outputs": [
    {
     "data": {
      "text/plain": [
       "15"
      ]
     },
     "execution_count": 6,
     "metadata": {},
     "output_type": "execute_result"
    }
   ],
   "source": [
    "x = np.arange(1, 6)\n",
    "# Equivalent to np.sum(x)\n",
    "np.add.reduce(x)"
   ]
  },
  {
   "cell_type": "code",
   "execution_count": 7,
   "metadata": {},
   "outputs": [
    {
     "data": {
      "text/plain": [
       "array([ 1,  3,  6, 10, 15])"
      ]
     },
     "execution_count": 7,
     "metadata": {},
     "output_type": "execute_result"
    }
   ],
   "source": [
    "# Equivalent to np.cumsum(x)\n",
    "np.add.accumulate(x)"
   ]
  },
  {
   "cell_type": "code",
   "execution_count": 8,
   "metadata": {},
   "outputs": [
    {
     "data": {
      "text/plain": [
       "array([[ 1,  2,  3,  4,  5],\n",
       "       [ 2,  4,  6,  8, 10],\n",
       "       [ 3,  6,  9, 12, 15],\n",
       "       [ 4,  8, 12, 16, 20],\n",
       "       [ 5, 10, 15, 20, 25]])"
      ]
     },
     "execution_count": 8,
     "metadata": {},
     "output_type": "execute_result"
    }
   ],
   "source": [
    "x = np.arange(1, 6)\n",
    "np.multiply.outer(x, x)"
   ]
  },
  {
   "cell_type": "markdown",
   "metadata": {},
   "source": [
    "### Data Statistics\n",
    "\n",
    "NumPy provides a variety of methods to compute statics about the data. NumPy arrays support Python's built-in functions (e.g. `sum` and `max`), but their NumPy counterparts (`np.sum` and `np.max`) are much more efficient. The following is a simple example of some useful methods and a comparison between `np.sum` and `sum` performance."
   ]
  },
  {
   "cell_type": "code",
   "execution_count": 9,
   "metadata": {},
   "outputs": [
    {
     "name": "stdout",
     "output_type": "stream",
     "text": [
      "Sum of elements:      49988718\n",
      "Product of elements:  0\n",
      "Mean of elements:     49.988718\n",
      "Standard deviation:   28.582147517576004\n",
      "Variance:             816.9391567164762\n",
      "Maximum value:        99\n",
      "Minimum value:        1\n",
      "Index of max value:   112\n",
      "Index of min value:   53\n"
     ]
    }
   ],
   "source": [
    "# Compute some insightful information about data\n",
    "print(\"Sum of elements:     \", big_array.sum())\n",
    "print(\"Product of elements: \", big_array.prod())\n",
    "print(\"Mean of elements:    \", big_array.mean())\n",
    "print(\"Standard deviation:  \", big_array.std())\n",
    "print(\"Variance:            \", big_array.var())\n",
    "print(\"Maximum value:       \", big_array.max())\n",
    "print(\"Minimum value:       \", big_array.min())\n",
    "print(\"Index of max value:  \", big_array.argmax())\n",
    "print(\"Index of min value:  \", big_array.argmin())"
   ]
  },
  {
   "cell_type": "code",
   "execution_count": 10,
   "metadata": {
    "scrolled": true
   },
   "outputs": [
    {
     "name": "stdout",
     "output_type": "stream",
     "text": [
      "161 ms ± 1.03 ms per loop (mean ± std. dev. of 7 runs, 10 loops each)\n",
      "792 µs ± 19.8 µs per loop (mean ± std. dev. of 7 runs, 1000 loops each)\n"
     ]
    }
   ],
   "source": [
    "%timeit sum(big_array)\n",
    "# Equivalent to big_array.sum()\n",
    "%timeit np.sum(big_array)"
   ]
  }
 ],
 "metadata": {
  "kernelspec": {
   "display_name": "Python 3",
   "language": "python",
   "name": "python3"
  },
  "language_info": {
   "codemirror_mode": {
    "name": "ipython",
    "version": 3
   },
   "file_extension": ".py",
   "mimetype": "text/x-python",
   "name": "python",
   "nbconvert_exporter": "python",
   "pygments_lexer": "ipython3",
   "version": "3.8.2"
  }
 },
 "nbformat": 4,
 "nbformat_minor": 4
}
